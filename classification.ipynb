{
 "cells": [
  {
   "cell_type": "code",
   "execution_count": 1,
   "metadata": {},
   "outputs": [],
   "source": [
    "import pandas as pd\n",
    "import matplotlib.pyplot as plt\n"
   ]
  },
  {
   "cell_type": "code",
   "execution_count": 2,
   "metadata": {
    "scrolled": true
   },
   "outputs": [
    {
     "data": {
      "text/html": [
       "<div>\n",
       "<style scoped>\n",
       "    .dataframe tbody tr th:only-of-type {\n",
       "        vertical-align: middle;\n",
       "    }\n",
       "\n",
       "    .dataframe tbody tr th {\n",
       "        vertical-align: top;\n",
       "    }\n",
       "\n",
       "    .dataframe thead th {\n",
       "        text-align: right;\n",
       "    }\n",
       "</style>\n",
       "<table border=\"1\" class=\"dataframe\">\n",
       "  <thead>\n",
       "    <tr style=\"text-align: right;\">\n",
       "      <th></th>\n",
       "      <th>age</th>\n",
       "      <th>sex</th>\n",
       "      <th>cp</th>\n",
       "      <th>trestbps</th>\n",
       "      <th>chol</th>\n",
       "      <th>fbs</th>\n",
       "      <th>restecg</th>\n",
       "      <th>thalach</th>\n",
       "      <th>exang</th>\n",
       "      <th>oldpeak</th>\n",
       "      <th>slope</th>\n",
       "      <th>ca</th>\n",
       "      <th>thal</th>\n",
       "      <th>target</th>\n",
       "    </tr>\n",
       "  </thead>\n",
       "  <tbody>\n",
       "    <tr>\n",
       "      <td>0</td>\n",
       "      <td>63</td>\n",
       "      <td>1</td>\n",
       "      <td>3</td>\n",
       "      <td>145</td>\n",
       "      <td>233</td>\n",
       "      <td>1</td>\n",
       "      <td>0</td>\n",
       "      <td>150</td>\n",
       "      <td>0</td>\n",
       "      <td>2.3</td>\n",
       "      <td>0</td>\n",
       "      <td>0</td>\n",
       "      <td>1</td>\n",
       "      <td>1</td>\n",
       "    </tr>\n",
       "    <tr>\n",
       "      <td>1</td>\n",
       "      <td>37</td>\n",
       "      <td>1</td>\n",
       "      <td>2</td>\n",
       "      <td>130</td>\n",
       "      <td>250</td>\n",
       "      <td>0</td>\n",
       "      <td>1</td>\n",
       "      <td>187</td>\n",
       "      <td>0</td>\n",
       "      <td>3.5</td>\n",
       "      <td>0</td>\n",
       "      <td>0</td>\n",
       "      <td>2</td>\n",
       "      <td>1</td>\n",
       "    </tr>\n",
       "    <tr>\n",
       "      <td>2</td>\n",
       "      <td>41</td>\n",
       "      <td>0</td>\n",
       "      <td>1</td>\n",
       "      <td>130</td>\n",
       "      <td>204</td>\n",
       "      <td>0</td>\n",
       "      <td>0</td>\n",
       "      <td>172</td>\n",
       "      <td>0</td>\n",
       "      <td>1.4</td>\n",
       "      <td>2</td>\n",
       "      <td>0</td>\n",
       "      <td>2</td>\n",
       "      <td>1</td>\n",
       "    </tr>\n",
       "  </tbody>\n",
       "</table>\n",
       "</div>"
      ],
      "text/plain": [
       "   age  sex  cp  trestbps  chol  fbs  restecg  thalach  exang  oldpeak  slope  \\\n",
       "0   63    1   3       145   233    1        0      150      0      2.3      0   \n",
       "1   37    1   2       130   250    0        1      187      0      3.5      0   \n",
       "2   41    0   1       130   204    0        0      172      0      1.4      2   \n",
       "\n",
       "   ca  thal  target  \n",
       "0   0     1       1  \n",
       "1   0     2       1  \n",
       "2   0     2       1  "
      ]
     },
     "execution_count": 2,
     "metadata": {},
     "output_type": "execute_result"
    }
   ],
   "source": [
    "# location of file (Heart Disease)\n",
    "path= data_source\n",
    "# column=['age','sex','cp','trestbps','chol','fbs','restecg','thalach','exang','oldpeak','slope','ca','thal','target']\n",
    "dataframe1=pd.read_csv(path)\n",
    "dataframe1.head(3)"
   ]
  },
  {
   "cell_type": "raw",
   "metadata": {},
   "source": [
    "age in years\n",
    "sex(1 = male; 0 = female)\n",
    "cp=chest pain type\n",
    "  -- Value 1: typical angina\n",
    "  -- Value 2: atypical angina\n",
    "  -- Value 3: non-anginal pain\n",
    "  -- Value 4: asymptomatic\n",
    "trestbps=resting blood pressure (in mm Hg on admission to the hospital)\n",
    "chol = serum cholestoral in mg/dl\n",
    "fbs = (fasting blood sugar > 120 mg/dl) (1 = true; 0 = false)\n",
    "restecg  = resting electrocardiographic results\n",
    "  -- Value 0: normal\n",
    "  -- Value 1: having ST-T wave abnormality (T wave inversions and/or ST elevation or depression of > 0.05 mV)\n",
    "  -- Value 2: showing probable or definite left ventricular hypertrophy by Estes' criteria\n",
    "thalach  = maximum heart rate achieved\n",
    "exang  = exercise induced angina (1 = yes; 0 = no)\n",
    "oldpeak = ST depression induced by exercise relative to rest\n",
    "slope = the slope of the peak exercise ST segment\n",
    "  -- Value 1: upsloping\n",
    "  -- Value 2: flat\n",
    "  -- Value 3: downsloping\n",
    "ca = number of major vessels (0-3) colored by flourosopy\n",
    "thal = (1 = normal; 2 = fixed defect; 3 = reversable defect)\n",
    "target =  have disease or not (1=yes, 0=no)\t\t\t\t\n"
   ]
  },
  {
   "cell_type": "code",
   "execution_count": 3,
   "metadata": {},
   "outputs": [
    {
     "data": {
      "text/plain": [
       "0"
      ]
     },
     "execution_count": 3,
     "metadata": {},
     "output_type": "execute_result"
    }
   ],
   "source": [
    "# no. of null values\n",
    "dataframe1.isnull().sum().sum()"
   ]
  },
  {
   "cell_type": "code",
   "execution_count": 4,
   "metadata": {
    "scrolled": true
   },
   "outputs": [
    {
     "data": {
      "text/plain": [
       "1    165\n",
       "0    138\n",
       "Name: target, dtype: int64"
      ]
     },
     "execution_count": 4,
     "metadata": {},
     "output_type": "execute_result"
    }
   ],
   "source": [
    "# target class distribution\n",
    "dataframe1['target'].value_counts()"
   ]
  },
  {
   "cell_type": "code",
   "execution_count": 5,
   "metadata": {
    "scrolled": true
   },
   "outputs": [
    {
     "name": "stderr",
     "output_type": "stream",
     "text": [
      "C:\\Users\\Abhishek\\Anaconda3\\lib\\site-packages\\pandas\\core\\ops\\__init__.py:1115: FutureWarning: elementwise comparison failed; returning scalar instead, but in the future will perform elementwise comparison\n",
      "  result = method(y)\n"
     ]
    },
    {
     "data": {
      "text/html": [
       "<div>\n",
       "<style scoped>\n",
       "    .dataframe tbody tr th:only-of-type {\n",
       "        vertical-align: middle;\n",
       "    }\n",
       "\n",
       "    .dataframe tbody tr th {\n",
       "        vertical-align: top;\n",
       "    }\n",
       "\n",
       "    .dataframe thead th {\n",
       "        text-align: right;\n",
       "    }\n",
       "</style>\n",
       "<table border=\"1\" class=\"dataframe\">\n",
       "  <thead>\n",
       "    <tr style=\"text-align: right;\">\n",
       "      <th></th>\n",
       "      <th>age</th>\n",
       "      <th>sex</th>\n",
       "      <th>cp</th>\n",
       "      <th>trestbps</th>\n",
       "      <th>chol</th>\n",
       "      <th>fbs</th>\n",
       "      <th>restecg</th>\n",
       "      <th>thalach</th>\n",
       "      <th>exang</th>\n",
       "      <th>oldpeak</th>\n",
       "      <th>slope</th>\n",
       "      <th>ca</th>\n",
       "      <th>thal</th>\n",
       "      <th>target</th>\n",
       "    </tr>\n",
       "  </thead>\n",
       "  <tbody>\n",
       "  </tbody>\n",
       "</table>\n",
       "</div>"
      ],
      "text/plain": [
       "Empty DataFrame\n",
       "Columns: [age, sex, cp, trestbps, chol, fbs, restecg, thalach, exang, oldpeak, slope, ca, thal, target]\n",
       "Index: []"
      ]
     },
     "execution_count": 5,
     "metadata": {},
     "output_type": "execute_result"
    }
   ],
   "source": [
    "# Searching '?' in any row of dataframe1\n",
    "dataframe1[dataframe1.eq('?').any(1)]"
   ]
  },
  {
   "cell_type": "code",
   "execution_count": 6,
   "metadata": {
    "scrolled": true
   },
   "outputs": [
    {
     "data": {
      "text/html": [
       "<div>\n",
       "<style scoped>\n",
       "    .dataframe tbody tr th:only-of-type {\n",
       "        vertical-align: middle;\n",
       "    }\n",
       "\n",
       "    .dataframe tbody tr th {\n",
       "        vertical-align: top;\n",
       "    }\n",
       "\n",
       "    .dataframe thead th {\n",
       "        text-align: right;\n",
       "    }\n",
       "</style>\n",
       "<table border=\"1\" class=\"dataframe\">\n",
       "  <thead>\n",
       "    <tr style=\"text-align: right;\">\n",
       "      <th></th>\n",
       "      <th>max</th>\n",
       "      <th>min</th>\n",
       "      <th>median</th>\n",
       "    </tr>\n",
       "  </thead>\n",
       "  <tbody>\n",
       "    <tr>\n",
       "      <td>age</td>\n",
       "      <td>77.0</td>\n",
       "      <td>29.0</td>\n",
       "      <td>55.0</td>\n",
       "    </tr>\n",
       "    <tr>\n",
       "      <td>sex</td>\n",
       "      <td>1.0</td>\n",
       "      <td>0.0</td>\n",
       "      <td>1.0</td>\n",
       "    </tr>\n",
       "    <tr>\n",
       "      <td>cp</td>\n",
       "      <td>3.0</td>\n",
       "      <td>0.0</td>\n",
       "      <td>1.0</td>\n",
       "    </tr>\n",
       "    <tr>\n",
       "      <td>trestbps</td>\n",
       "      <td>200.0</td>\n",
       "      <td>94.0</td>\n",
       "      <td>130.0</td>\n",
       "    </tr>\n",
       "    <tr>\n",
       "      <td>chol</td>\n",
       "      <td>564.0</td>\n",
       "      <td>126.0</td>\n",
       "      <td>240.0</td>\n",
       "    </tr>\n",
       "    <tr>\n",
       "      <td>fbs</td>\n",
       "      <td>1.0</td>\n",
       "      <td>0.0</td>\n",
       "      <td>0.0</td>\n",
       "    </tr>\n",
       "    <tr>\n",
       "      <td>restecg</td>\n",
       "      <td>2.0</td>\n",
       "      <td>0.0</td>\n",
       "      <td>1.0</td>\n",
       "    </tr>\n",
       "    <tr>\n",
       "      <td>thalach</td>\n",
       "      <td>202.0</td>\n",
       "      <td>71.0</td>\n",
       "      <td>153.0</td>\n",
       "    </tr>\n",
       "    <tr>\n",
       "      <td>exang</td>\n",
       "      <td>1.0</td>\n",
       "      <td>0.0</td>\n",
       "      <td>0.0</td>\n",
       "    </tr>\n",
       "    <tr>\n",
       "      <td>oldpeak</td>\n",
       "      <td>6.2</td>\n",
       "      <td>0.0</td>\n",
       "      <td>0.8</td>\n",
       "    </tr>\n",
       "    <tr>\n",
       "      <td>slope</td>\n",
       "      <td>2.0</td>\n",
       "      <td>0.0</td>\n",
       "      <td>1.0</td>\n",
       "    </tr>\n",
       "    <tr>\n",
       "      <td>ca</td>\n",
       "      <td>4.0</td>\n",
       "      <td>0.0</td>\n",
       "      <td>0.0</td>\n",
       "    </tr>\n",
       "    <tr>\n",
       "      <td>thal</td>\n",
       "      <td>3.0</td>\n",
       "      <td>0.0</td>\n",
       "      <td>2.0</td>\n",
       "    </tr>\n",
       "    <tr>\n",
       "      <td>target</td>\n",
       "      <td>1.0</td>\n",
       "      <td>0.0</td>\n",
       "      <td>1.0</td>\n",
       "    </tr>\n",
       "  </tbody>\n",
       "</table>\n",
       "</div>"
      ],
      "text/plain": [
       "            max    min  median\n",
       "age        77.0   29.0    55.0\n",
       "sex         1.0    0.0     1.0\n",
       "cp          3.0    0.0     1.0\n",
       "trestbps  200.0   94.0   130.0\n",
       "chol      564.0  126.0   240.0\n",
       "fbs         1.0    0.0     0.0\n",
       "restecg     2.0    0.0     1.0\n",
       "thalach   202.0   71.0   153.0\n",
       "exang       1.0    0.0     0.0\n",
       "oldpeak     6.2    0.0     0.8\n",
       "slope       2.0    0.0     1.0\n",
       "ca          4.0    0.0     0.0\n",
       "thal        3.0    0.0     2.0\n",
       "target      1.0    0.0     1.0"
      ]
     },
     "execution_count": 6,
     "metadata": {},
     "output_type": "execute_result"
    }
   ],
   "source": [
    "# Find min and max values\n",
    "pd.DataFrame({'max':dataframe1.max(),'min':dataframe1.min(),'median':dataframe1.median()})"
   ]
  },
  {
   "cell_type": "code",
   "execution_count": 7,
   "metadata": {},
   "outputs": [
    {
     "data": {
      "text/plain": [
       "<matplotlib.axes._subplots.AxesSubplot at 0x11599559c8>"
      ]
     },
     "execution_count": 7,
     "metadata": {},
     "output_type": "execute_result"
    },
    {
     "data": {
      "image/png": "[encoded data removed]",
      "text/plain": [
       "<Figure size 432x288 with 1 Axes>"
      ]
     },
     "metadata": {
      "needs_background": "light"
     },
     "output_type": "display_data"
    }
   ],
   "source": [
    "# to visualize the distribution of values within each column\n",
    "color = {'boxes': 'DarkGreen', 'whiskers': 'DarkOrange','medians': 'Yellow', 'caps': 'Black'}\n",
    "dataframe1[['trestbps','chol','thalach']].plot.box(color=color,sym='r+')"
   ]
  },
  {
   "cell_type": "code",
   "execution_count": 8,
   "metadata": {},
   "outputs": [
    {
     "data": {
      "text/plain": [
       "<matplotlib.axes._subplots.AxesSubplot at 0x115a4deec8>"
      ]
     },
     "execution_count": 8,
     "metadata": {},
     "output_type": "execute_result"
    },
    {
     "data": {
      "image/png": "[encoded data removed]",
      "text/plain": [
       "<Figure size 432x288 with 1 Axes>"
      ]
     },
     "metadata": {
      "needs_background": "light"
     },
     "output_type": "display_data"
    }
   ],
   "source": [
    "# to visualize the distribution of values within each column\n",
    "dataframe1.drop(['trestbps','chol','thalach','age'],axis=1).plot.box(sym='r+')"
   ]
  },
  {
   "cell_type": "code",
   "execution_count": 9,
   "metadata": {},
   "outputs": [
    {
     "data": {
      "text/plain": [
       "<matplotlib.axes._subplots.AxesSubplot at 0x115a4d3848>"
      ]
     },
     "execution_count": 9,
     "metadata": {},
     "output_type": "execute_result"
    },
    {
     "data": {
      "image/png": "[encoded data removed]",
      "text/plain": [
       "<Figure size 432x288 with 1 Axes>"
      ]
     },
     "metadata": {
      "needs_background": "light"
     },
     "output_type": "display_data"
    }
   ],
   "source": [
    "# variation of age for each value of target\n",
    "dataframe1.boxplot(by='target',column='age')"
   ]
  },
  {
   "cell_type": "code",
   "execution_count": 10,
   "metadata": {},
   "outputs": [
    {
     "data": {
      "image/png": "[encoded data removed]",
      "text/plain": [
       "<Figure size 432x288 with 1 Axes>"
      ]
     },
     "metadata": {
      "needs_background": "light"
     },
     "output_type": "display_data"
    }
   ],
   "source": [
    "df=pd.crosstab(dataframe1.age,dataframe1.target)\n",
    "df.plot(kind='bar')\n",
    "plt.title('Frequency of Heart Disease for Ages')\n",
    "plt.xlabel('Age')\n",
    "plt.ylabel('Frequency')\n",
    "plt.show()"
   ]
  },
  {
   "cell_type": "markdown",
   "metadata": {},
   "source": [
    "As we can see person with higher age has higher frequency of not heart disease in comparison of person with lower age."
   ]
  },
  {
   "cell_type": "code",
   "execution_count": 11,
   "metadata": {},
   "outputs": [
    {
     "data": {
      "image/png": "[encoded data removed]",
      "text/plain": [
       "<Figure size 432x288 with 1 Axes>"
      ]
     },
     "metadata": {
      "needs_background": "light"
     },
     "output_type": "display_data"
    }
   ],
   "source": [
    "df1=pd.crosstab(dataframe1.cp,dataframe1.target).plot(kind='bar')\n",
    "plt.title('frequency for heart disease for chest pain')\n",
    "plt.xlabel('cp')\n",
    "plt.ylabel('freq')\n",
    "plt.show()"
   ]
  },
  {
   "cell_type": "code",
   "execution_count": 12,
   "metadata": {
    "scrolled": true
   },
   "outputs": [
    {
     "data": {
      "image/png": "[encoded data removed]",
      "text/plain": [
       "<Figure size 432x288 with 1 Axes>"
      ]
     },
     "metadata": {
      "needs_background": "light"
     },
     "output_type": "display_data"
    }
   ],
   "source": [
    "df2=pd.crosstab(dataframe1.thalach,dataframe1.target).plot(kind='bar')\n",
    "plt.title('frequency for heart disease for chest pain')\n",
    "plt.xlabel('thalch')\n",
    "plt.ylabel('freq')\n",
    "plt.show()"
   ]
  },
  {
   "cell_type": "code",
   "execution_count": 13,
   "metadata": {
    "scrolled": false
   },
   "outputs": [
    {
     "data": {
      "text/plain": [
       "array([[<matplotlib.axes._subplots.AxesSubplot object at 0x000000115A9306C8>,\n",
       "        <matplotlib.axes._subplots.AxesSubplot object at 0x000000115BCB02C8>,\n",
       "        <matplotlib.axes._subplots.AxesSubplot object at 0x000000115BCD0E48>,\n",
       "        <matplotlib.axes._subplots.AxesSubplot object at 0x000000115BD0AF88>],\n",
       "       [<matplotlib.axes._subplots.AxesSubplot object at 0x000000115BD450C8>,\n",
       "        <matplotlib.axes._subplots.AxesSubplot object at 0x000000115BD7E1C8>,\n",
       "        <matplotlib.axes._subplots.AxesSubplot object at 0x000000115BDB62C8>,\n",
       "        <matplotlib.axes._subplots.AxesSubplot object at 0x000000115BDED3C8>],\n",
       "       [<matplotlib.axes._subplots.AxesSubplot object at 0x000000115BDF3F88>,\n",
       "        <matplotlib.axes._subplots.AxesSubplot object at 0x000000115BE34188>,\n",
       "        <matplotlib.axes._subplots.AxesSubplot object at 0x000000115BE9A708>,\n",
       "        <matplotlib.axes._subplots.AxesSubplot object at 0x000000115BED27C8>],\n",
       "       [<matplotlib.axes._subplots.AxesSubplot object at 0x000000115BF0A908>,\n",
       "        <matplotlib.axes._subplots.AxesSubplot object at 0x000000115BF44A08>,\n",
       "        <matplotlib.axes._subplots.AxesSubplot object at 0x000000115BF7CAC8>,\n",
       "        <matplotlib.axes._subplots.AxesSubplot object at 0x000000115BFB4C88>]],\n",
       "      dtype=object)"
      ]
     },
     "execution_count": 13,
     "metadata": {},
     "output_type": "execute_result"
    },
    {
     "data": {
      "image/png": "[encoded data removed]",
      "text/plain": [
       "<Figure size 432x288 with 16 Axes>"
      ]
     },
     "metadata": {
      "needs_background": "light"
     },
     "output_type": "display_data"
    }
   ],
   "source": [
    "dataframe1.hist()"
   ]
  },
  {
   "cell_type": "code",
   "execution_count": 14,
   "metadata": {
    "scrolled": false
   },
   "outputs": [
    {
     "data": {
      "text/html": [
       "<div>\n",
       "<style scoped>\n",
       "    .dataframe tbody tr th:only-of-type {\n",
       "        vertical-align: middle;\n",
       "    }\n",
       "\n",
       "    .dataframe tbody tr th {\n",
       "        vertical-align: top;\n",
       "    }\n",
       "\n",
       "    .dataframe thead th {\n",
       "        text-align: right;\n",
       "    }\n",
       "</style>\n",
       "<table border=\"1\" class=\"dataframe\">\n",
       "  <thead>\n",
       "    <tr style=\"text-align: right;\">\n",
       "      <th></th>\n",
       "      <th>age</th>\n",
       "      <th>sex</th>\n",
       "      <th>trestbps</th>\n",
       "      <th>chol</th>\n",
       "      <th>fbs</th>\n",
       "      <th>restecg</th>\n",
       "      <th>thalach</th>\n",
       "      <th>exang</th>\n",
       "      <th>oldpeak</th>\n",
       "      <th>ca</th>\n",
       "      <th>...</th>\n",
       "      <th>cp_1</th>\n",
       "      <th>cp_2</th>\n",
       "      <th>cp_3</th>\n",
       "      <th>thal_0</th>\n",
       "      <th>thal_1</th>\n",
       "      <th>thal_2</th>\n",
       "      <th>thal_3</th>\n",
       "      <th>slope_0</th>\n",
       "      <th>slope_1</th>\n",
       "      <th>slope_2</th>\n",
       "    </tr>\n",
       "  </thead>\n",
       "  <tbody>\n",
       "    <tr>\n",
       "      <td>0</td>\n",
       "      <td>63</td>\n",
       "      <td>1</td>\n",
       "      <td>145</td>\n",
       "      <td>233</td>\n",
       "      <td>1</td>\n",
       "      <td>0</td>\n",
       "      <td>150</td>\n",
       "      <td>0</td>\n",
       "      <td>2.3</td>\n",
       "      <td>0</td>\n",
       "      <td>...</td>\n",
       "      <td>0</td>\n",
       "      <td>0</td>\n",
       "      <td>1</td>\n",
       "      <td>0</td>\n",
       "      <td>1</td>\n",
       "      <td>0</td>\n",
       "      <td>0</td>\n",
       "      <td>1</td>\n",
       "      <td>0</td>\n",
       "      <td>0</td>\n",
       "    </tr>\n",
       "    <tr>\n",
       "      <td>1</td>\n",
       "      <td>37</td>\n",
       "      <td>1</td>\n",
       "      <td>130</td>\n",
       "      <td>250</td>\n",
       "      <td>0</td>\n",
       "      <td>1</td>\n",
       "      <td>187</td>\n",
       "      <td>0</td>\n",
       "      <td>3.5</td>\n",
       "      <td>0</td>\n",
       "      <td>...</td>\n",
       "      <td>0</td>\n",
       "      <td>1</td>\n",
       "      <td>0</td>\n",
       "      <td>0</td>\n",
       "      <td>0</td>\n",
       "      <td>1</td>\n",
       "      <td>0</td>\n",
       "      <td>1</td>\n",
       "      <td>0</td>\n",
       "      <td>0</td>\n",
       "    </tr>\n",
       "    <tr>\n",
       "      <td>2</td>\n",
       "      <td>41</td>\n",
       "      <td>0</td>\n",
       "      <td>130</td>\n",
       "      <td>204</td>\n",
       "      <td>0</td>\n",
       "      <td>0</td>\n",
       "      <td>172</td>\n",
       "      <td>0</td>\n",
       "      <td>1.4</td>\n",
       "      <td>0</td>\n",
       "      <td>...</td>\n",
       "      <td>1</td>\n",
       "      <td>0</td>\n",
       "      <td>0</td>\n",
       "      <td>0</td>\n",
       "      <td>0</td>\n",
       "      <td>1</td>\n",
       "      <td>0</td>\n",
       "      <td>0</td>\n",
       "      <td>0</td>\n",
       "      <td>1</td>\n",
       "    </tr>\n",
       "  </tbody>\n",
       "</table>\n",
       "<p>3 rows × 22 columns</p>\n",
       "</div>"
      ],
      "text/plain": [
       "   age  sex  trestbps  chol  fbs  restecg  thalach  exang  oldpeak  ca  ...  \\\n",
       "0   63    1       145   233    1        0      150      0      2.3   0  ...   \n",
       "1   37    1       130   250    0        1      187      0      3.5   0  ...   \n",
       "2   41    0       130   204    0        0      172      0      1.4   0  ...   \n",
       "\n",
       "   cp_1  cp_2  cp_3  thal_0  thal_1  thal_2  thal_3  slope_0  slope_1  slope_2  \n",
       "0     0     0     1       0       1       0       0        1        0        0  \n",
       "1     0     1     0       0       0       1       0        1        0        0  \n",
       "2     1     0     0       0       0       1       0        0        0        1  \n",
       "\n",
       "[3 rows x 22 columns]"
      ]
     },
     "execution_count": 14,
     "metadata": {},
     "output_type": "execute_result"
    }
   ],
   "source": [
    "# encoding categories column\n",
    "dataframe2=pd.get_dummies(dataframe1,columns=['cp','thal','slope'])\n",
    "dataframe2.head(3)"
   ]
  },
  {
   "cell_type": "code",
   "execution_count": 15,
   "metadata": {},
   "outputs": [],
   "source": [
    "X_data=dataframe2.drop('target',axis=1)\n",
    "Y_data=dataframe2[['target']]"
   ]
  },
  {
   "cell_type": "code",
   "execution_count": 16,
   "metadata": {},
   "outputs": [],
   "source": [
    "from sklearn.model_selection import train_test_split\n",
    "X_data_train,X_data_test,Y_data_train,Y_data_test=train_test_split(X_data,Y_data,test_size=0.2,random_state=41)"
   ]
  },
  {
   "cell_type": "code",
   "execution_count": 17,
   "metadata": {},
   "outputs": [],
   "source": [
    "from sklearn.preprocessing import MinMaxScaler\n",
    "mms=MinMaxScaler()\n",
    "X_data_train_values=mms.fit_transform(X_data_train)\n",
    "X_data_test_values=mms.transform(X_data_test)"
   ]
  },
  {
   "cell_type": "code",
   "execution_count": 18,
   "metadata": {},
   "outputs": [
    {
     "data": {
      "text/plain": [
       "Index(['age', 'sex', 'trestbps', 'chol', 'fbs', 'restecg', 'thalach', 'exang',\n",
       "       'oldpeak', 'ca', 'cp_0', 'cp_1', 'cp_2', 'cp_3', 'thal_0', 'thal_1',\n",
       "       'thal_2', 'thal_3', 'slope_0', 'slope_1', 'slope_2'],\n",
       "      dtype='object')"
      ]
     },
     "execution_count": 18,
     "metadata": {},
     "output_type": "execute_result"
    }
   ],
   "source": [
    "X_data.columns"
   ]
  },
  {
   "cell_type": "code",
   "execution_count": 19,
   "metadata": {
    "scrolled": true
   },
   "outputs": [
    {
     "data": {
      "text/html": [
       "<div>\n",
       "<style scoped>\n",
       "    .dataframe tbody tr th:only-of-type {\n",
       "        vertical-align: middle;\n",
       "    }\n",
       "\n",
       "    .dataframe tbody tr th {\n",
       "        vertical-align: top;\n",
       "    }\n",
       "\n",
       "    .dataframe thead th {\n",
       "        text-align: right;\n",
       "    }\n",
       "</style>\n",
       "<table border=\"1\" class=\"dataframe\">\n",
       "  <thead>\n",
       "    <tr style=\"text-align: right;\">\n",
       "      <th></th>\n",
       "      <th>age</th>\n",
       "      <th>sex</th>\n",
       "      <th>trestbps</th>\n",
       "      <th>chol</th>\n",
       "      <th>fbs</th>\n",
       "      <th>restecg</th>\n",
       "      <th>thalach</th>\n",
       "      <th>exang</th>\n",
       "      <th>oldpeak</th>\n",
       "      <th>ca</th>\n",
       "      <th>...</th>\n",
       "      <th>cp_1</th>\n",
       "      <th>cp_2</th>\n",
       "      <th>cp_3</th>\n",
       "      <th>thal_0</th>\n",
       "      <th>thal_1</th>\n",
       "      <th>thal_2</th>\n",
       "      <th>thal_3</th>\n",
       "      <th>slope_0</th>\n",
       "      <th>slope_1</th>\n",
       "      <th>slope_2</th>\n",
       "    </tr>\n",
       "  </thead>\n",
       "  <tbody>\n",
       "    <tr>\n",
       "      <td>0</td>\n",
       "      <td>0.581395</td>\n",
       "      <td>1.0</td>\n",
       "      <td>0.571429</td>\n",
       "      <td>0.196347</td>\n",
       "      <td>1.0</td>\n",
       "      <td>0.5</td>\n",
       "      <td>0.693548</td>\n",
       "      <td>0.0</td>\n",
       "      <td>0.258065</td>\n",
       "      <td>0.00</td>\n",
       "      <td>...</td>\n",
       "      <td>0.0</td>\n",
       "      <td>1.0</td>\n",
       "      <td>0.0</td>\n",
       "      <td>0.0</td>\n",
       "      <td>0.0</td>\n",
       "      <td>1.0</td>\n",
       "      <td>0.0</td>\n",
       "      <td>0.0</td>\n",
       "      <td>0.0</td>\n",
       "      <td>1.0</td>\n",
       "    </tr>\n",
       "    <tr>\n",
       "      <td>1</td>\n",
       "      <td>0.744186</td>\n",
       "      <td>1.0</td>\n",
       "      <td>0.673469</td>\n",
       "      <td>0.273973</td>\n",
       "      <td>0.0</td>\n",
       "      <td>0.5</td>\n",
       "      <td>0.395161</td>\n",
       "      <td>1.0</td>\n",
       "      <td>0.000000</td>\n",
       "      <td>0.75</td>\n",
       "      <td>...</td>\n",
       "      <td>1.0</td>\n",
       "      <td>0.0</td>\n",
       "      <td>0.0</td>\n",
       "      <td>0.0</td>\n",
       "      <td>1.0</td>\n",
       "      <td>0.0</td>\n",
       "      <td>0.0</td>\n",
       "      <td>0.0</td>\n",
       "      <td>1.0</td>\n",
       "      <td>0.0</td>\n",
       "    </tr>\n",
       "  </tbody>\n",
       "</table>\n",
       "<p>2 rows × 21 columns</p>\n",
       "</div>"
      ],
      "text/plain": [
       "        age  sex  trestbps      chol  fbs  restecg   thalach  exang   oldpeak  \\\n",
       "0  0.581395  1.0  0.571429  0.196347  1.0      0.5  0.693548    0.0  0.258065   \n",
       "1  0.744186  1.0  0.673469  0.273973  0.0      0.5  0.395161    1.0  0.000000   \n",
       "\n",
       "     ca  ...  cp_1  cp_2  cp_3  thal_0  thal_1  thal_2  thal_3  slope_0  \\\n",
       "0  0.00  ...   0.0   1.0   0.0     0.0     0.0     1.0     0.0      0.0   \n",
       "1  0.75  ...   1.0   0.0   0.0     0.0     1.0     0.0     0.0      0.0   \n",
       "\n",
       "   slope_1  slope_2  \n",
       "0      0.0      1.0  \n",
       "1      1.0      0.0  \n",
       "\n",
       "[2 rows x 21 columns]"
      ]
     },
     "execution_count": 19,
     "metadata": {},
     "output_type": "execute_result"
    }
   ],
   "source": [
    "X_train=pd.DataFrame(X_data_train_values,columns=X_data.columns)\n",
    "X_train.head(2)"
   ]
  },
  {
   "cell_type": "code",
   "execution_count": 20,
   "metadata": {
    "scrolled": true
   },
   "outputs": [
    {
     "data": {
      "text/html": [
       "<div>\n",
       "<style scoped>\n",
       "    .dataframe tbody tr th:only-of-type {\n",
       "        vertical-align: middle;\n",
       "    }\n",
       "\n",
       "    .dataframe tbody tr th {\n",
       "        vertical-align: top;\n",
       "    }\n",
       "\n",
       "    .dataframe thead th {\n",
       "        text-align: right;\n",
       "    }\n",
       "</style>\n",
       "<table border=\"1\" class=\"dataframe\">\n",
       "  <thead>\n",
       "    <tr style=\"text-align: right;\">\n",
       "      <th></th>\n",
       "      <th>age</th>\n",
       "      <th>sex</th>\n",
       "      <th>trestbps</th>\n",
       "      <th>chol</th>\n",
       "      <th>fbs</th>\n",
       "      <th>restecg</th>\n",
       "      <th>thalach</th>\n",
       "      <th>exang</th>\n",
       "      <th>oldpeak</th>\n",
       "      <th>ca</th>\n",
       "      <th>...</th>\n",
       "      <th>cp_1</th>\n",
       "      <th>cp_2</th>\n",
       "      <th>cp_3</th>\n",
       "      <th>thal_0</th>\n",
       "      <th>thal_1</th>\n",
       "      <th>thal_2</th>\n",
       "      <th>thal_3</th>\n",
       "      <th>slope_0</th>\n",
       "      <th>slope_1</th>\n",
       "      <th>slope_2</th>\n",
       "    </tr>\n",
       "  </thead>\n",
       "  <tbody>\n",
       "    <tr>\n",
       "      <td>0</td>\n",
       "      <td>0.232558</td>\n",
       "      <td>1.0</td>\n",
       "      <td>0.265306</td>\n",
       "      <td>0.098174</td>\n",
       "      <td>0.0</td>\n",
       "      <td>0.5</td>\n",
       "      <td>0.588710</td>\n",
       "      <td>1.0</td>\n",
       "      <td>0.451613</td>\n",
       "      <td>0.00</td>\n",
       "      <td>...</td>\n",
       "      <td>0.0</td>\n",
       "      <td>0.0</td>\n",
       "      <td>0.0</td>\n",
       "      <td>0.0</td>\n",
       "      <td>1.0</td>\n",
       "      <td>0.0</td>\n",
       "      <td>0.0</td>\n",
       "      <td>1.0</td>\n",
       "      <td>0.0</td>\n",
       "      <td>0.0</td>\n",
       "    </tr>\n",
       "    <tr>\n",
       "      <td>1</td>\n",
       "      <td>0.813953</td>\n",
       "      <td>1.0</td>\n",
       "      <td>0.469388</td>\n",
       "      <td>0.292237</td>\n",
       "      <td>0.0</td>\n",
       "      <td>0.0</td>\n",
       "      <td>0.604839</td>\n",
       "      <td>0.0</td>\n",
       "      <td>0.322581</td>\n",
       "      <td>0.75</td>\n",
       "      <td>...</td>\n",
       "      <td>0.0</td>\n",
       "      <td>1.0</td>\n",
       "      <td>0.0</td>\n",
       "      <td>0.0</td>\n",
       "      <td>0.0</td>\n",
       "      <td>0.0</td>\n",
       "      <td>1.0</td>\n",
       "      <td>0.0</td>\n",
       "      <td>1.0</td>\n",
       "      <td>0.0</td>\n",
       "    </tr>\n",
       "  </tbody>\n",
       "</table>\n",
       "<p>2 rows × 21 columns</p>\n",
       "</div>"
      ],
      "text/plain": [
       "        age  sex  trestbps      chol  fbs  restecg   thalach  exang   oldpeak  \\\n",
       "0  0.232558  1.0  0.265306  0.098174  0.0      0.5  0.588710    1.0  0.451613   \n",
       "1  0.813953  1.0  0.469388  0.292237  0.0      0.0  0.604839    0.0  0.322581   \n",
       "\n",
       "     ca  ...  cp_1  cp_2  cp_3  thal_0  thal_1  thal_2  thal_3  slope_0  \\\n",
       "0  0.00  ...   0.0   0.0   0.0     0.0     1.0     0.0     0.0      1.0   \n",
       "1  0.75  ...   0.0   1.0   0.0     0.0     0.0     0.0     1.0      0.0   \n",
       "\n",
       "   slope_1  slope_2  \n",
       "0      0.0      0.0  \n",
       "1      1.0      0.0  \n",
       "\n",
       "[2 rows x 21 columns]"
      ]
     },
     "execution_count": 20,
     "metadata": {},
     "output_type": "execute_result"
    }
   ],
   "source": [
    "X_test=pd.DataFrame(X_data_test_values,columns=X_data.columns)\n",
    "X_test.head(2)"
   ]
  },
  {
   "cell_type": "code",
   "execution_count": 21,
   "metadata": {},
   "outputs": [],
   "source": [
    "from sklearn.model_selection import GridSearchCV\n",
    "\n",
    "\n",
    "def GET_Results(results):\n",
    "    print('best params: {}\\n'.format(results.best_params_))\n",
    "    means=results.cv_results_['mean_test_score']\n",
    "    stds=results.cv_results_['std_test_score']\n",
    "    all_params=results.cv_results_['params']\n",
    "    for mean, std, params in zip(means,stds,all_params):\n",
    "        print(round(mean,5),round(std*2,5),params)\n",
    "\n",
    "from sklearn.tree import DecisionTreeClassifier \n",
    " \n"
   ]
  },
  {
   "cell_type": "markdown",
   "metadata": {},
   "source": [
    "## Decision Tree classifier"
   ]
  },
  {
   "cell_type": "code",
   "execution_count": 22,
   "metadata": {},
   "outputs": [],
   "source": [
    "from sklearn.metrics import f1_score\n",
    "def all_score(a_true,a_pred):\n",
    "    print(f1_score(a_true,a_pred,average='binary'))"
   ]
  },
  {
   "cell_type": "code",
   "execution_count": 23,
   "metadata": {},
   "outputs": [
    {
     "name": "stdout",
     "output_type": "stream",
     "text": [
      "best params: {'criterion': 'entropy', 'max_depth': 5, 'min_samples_leaf': 7}\n",
      "\n",
      "0.802 0.0977 {'criterion': 'gini', 'max_depth': 5, 'min_samples_leaf': 2}\n",
      "0.79824 0.08161 {'criterion': 'gini', 'max_depth': 5, 'min_samples_leaf': 3}\n",
      "0.78028 0.12806 {'criterion': 'gini', 'max_depth': 5, 'min_samples_leaf': 4}\n",
      "0.75105 0.13638 {'criterion': 'gini', 'max_depth': 5, 'min_samples_leaf': 5}\n",
      "0.77684 0.11823 {'criterion': 'gini', 'max_depth': 5, 'min_samples_leaf': 6}\n",
      "0.78668 0.08558 {'criterion': 'gini', 'max_depth': 5, 'min_samples_leaf': 7}\n",
      "0.77764 0.06015 {'criterion': 'gini', 'max_depth': 5, 'min_samples_leaf': 8}\n",
      "0.77335 0.0924 {'criterion': 'gini', 'max_depth': 10, 'min_samples_leaf': 2}\n",
      "0.79362 0.0865 {'criterion': 'gini', 'max_depth': 10, 'min_samples_leaf': 3}\n",
      "0.78028 0.12806 {'criterion': 'gini', 'max_depth': 10, 'min_samples_leaf': 4}\n",
      "0.75105 0.13638 {'criterion': 'gini', 'max_depth': 10, 'min_samples_leaf': 5}\n",
      "0.77684 0.11823 {'criterion': 'gini', 'max_depth': 10, 'min_samples_leaf': 6}\n",
      "0.78668 0.08558 {'criterion': 'gini', 'max_depth': 10, 'min_samples_leaf': 7}\n",
      "0.77764 0.06015 {'criterion': 'gini', 'max_depth': 10, 'min_samples_leaf': 8}\n",
      "0.77335 0.0924 {'criterion': 'gini', 'max_depth': 15, 'min_samples_leaf': 2}\n",
      "0.79362 0.0865 {'criterion': 'gini', 'max_depth': 15, 'min_samples_leaf': 3}\n",
      "0.78028 0.12806 {'criterion': 'gini', 'max_depth': 15, 'min_samples_leaf': 4}\n",
      "0.75105 0.13638 {'criterion': 'gini', 'max_depth': 15, 'min_samples_leaf': 5}\n",
      "0.77684 0.11823 {'criterion': 'gini', 'max_depth': 15, 'min_samples_leaf': 6}\n",
      "0.78668 0.08558 {'criterion': 'gini', 'max_depth': 15, 'min_samples_leaf': 7}\n",
      "0.77764 0.06015 {'criterion': 'gini', 'max_depth': 15, 'min_samples_leaf': 8}\n",
      "0.77335 0.0924 {'criterion': 'gini', 'max_depth': 20, 'min_samples_leaf': 2}\n",
      "0.79362 0.0865 {'criterion': 'gini', 'max_depth': 20, 'min_samples_leaf': 3}\n",
      "0.78028 0.12806 {'criterion': 'gini', 'max_depth': 20, 'min_samples_leaf': 4}\n",
      "0.75105 0.13638 {'criterion': 'gini', 'max_depth': 20, 'min_samples_leaf': 5}\n",
      "0.77684 0.11823 {'criterion': 'gini', 'max_depth': 20, 'min_samples_leaf': 6}\n",
      "0.78668 0.08558 {'criterion': 'gini', 'max_depth': 20, 'min_samples_leaf': 7}\n",
      "0.77764 0.06015 {'criterion': 'gini', 'max_depth': 20, 'min_samples_leaf': 8}\n",
      "0.77335 0.0924 {'criterion': 'gini', 'max_depth': None, 'min_samples_leaf': 2}\n",
      "0.79362 0.0865 {'criterion': 'gini', 'max_depth': None, 'min_samples_leaf': 3}\n",
      "0.78028 0.12806 {'criterion': 'gini', 'max_depth': None, 'min_samples_leaf': 4}\n",
      "0.75105 0.13638 {'criterion': 'gini', 'max_depth': None, 'min_samples_leaf': 5}\n",
      "0.77684 0.11823 {'criterion': 'gini', 'max_depth': None, 'min_samples_leaf': 6}\n",
      "0.78668 0.08558 {'criterion': 'gini', 'max_depth': None, 'min_samples_leaf': 7}\n",
      "0.77764 0.06015 {'criterion': 'gini', 'max_depth': None, 'min_samples_leaf': 8}\n",
      "0.80398 0.05645 {'criterion': 'entropy', 'max_depth': 5, 'min_samples_leaf': 2}\n",
      "0.79415 0.08242 {'criterion': 'entropy', 'max_depth': 5, 'min_samples_leaf': 3}\n",
      "0.78564 0.10903 {'criterion': 'entropy', 'max_depth': 5, 'min_samples_leaf': 4}\n",
      "0.7388 0.12542 {'criterion': 'entropy', 'max_depth': 5, 'min_samples_leaf': 5}\n",
      "0.7679 0.11007 {'criterion': 'entropy', 'max_depth': 5, 'min_samples_leaf': 6}\n",
      "0.8073 0.07645 {'criterion': 'entropy', 'max_depth': 5, 'min_samples_leaf': 7}\n",
      "0.78849 0.07453 {'criterion': 'entropy', 'max_depth': 5, 'min_samples_leaf': 8}\n",
      "0.77827 0.10646 {'criterion': 'entropy', 'max_depth': 10, 'min_samples_leaf': 2}\n",
      "0.76565 0.11257 {'criterion': 'entropy', 'max_depth': 10, 'min_samples_leaf': 3}\n",
      "0.78007 0.11383 {'criterion': 'entropy', 'max_depth': 10, 'min_samples_leaf': 4}\n",
      "0.74365 0.11747 {'criterion': 'entropy', 'max_depth': 10, 'min_samples_leaf': 5}\n",
      "0.7679 0.11007 {'criterion': 'entropy', 'max_depth': 10, 'min_samples_leaf': 6}\n",
      "0.8073 0.07645 {'criterion': 'entropy', 'max_depth': 10, 'min_samples_leaf': 7}\n",
      "0.78849 0.07453 {'criterion': 'entropy', 'max_depth': 10, 'min_samples_leaf': 8}\n",
      "0.77827 0.10646 {'criterion': 'entropy', 'max_depth': 15, 'min_samples_leaf': 2}\n",
      "0.76565 0.11257 {'criterion': 'entropy', 'max_depth': 15, 'min_samples_leaf': 3}\n",
      "0.78007 0.11383 {'criterion': 'entropy', 'max_depth': 15, 'min_samples_leaf': 4}\n",
      "0.74365 0.11747 {'criterion': 'entropy', 'max_depth': 15, 'min_samples_leaf': 5}\n",
      "0.7679 0.11007 {'criterion': 'entropy', 'max_depth': 15, 'min_samples_leaf': 6}\n",
      "0.8073 0.07645 {'criterion': 'entropy', 'max_depth': 15, 'min_samples_leaf': 7}\n",
      "0.78849 0.07453 {'criterion': 'entropy', 'max_depth': 15, 'min_samples_leaf': 8}\n",
      "0.77827 0.10646 {'criterion': 'entropy', 'max_depth': 20, 'min_samples_leaf': 2}\n",
      "0.76565 0.11257 {'criterion': 'entropy', 'max_depth': 20, 'min_samples_leaf': 3}\n",
      "0.78007 0.11383 {'criterion': 'entropy', 'max_depth': 20, 'min_samples_leaf': 4}\n",
      "0.74365 0.11747 {'criterion': 'entropy', 'max_depth': 20, 'min_samples_leaf': 5}\n",
      "0.7679 0.11007 {'criterion': 'entropy', 'max_depth': 20, 'min_samples_leaf': 6}\n",
      "0.8073 0.07645 {'criterion': 'entropy', 'max_depth': 20, 'min_samples_leaf': 7}\n",
      "0.78849 0.07453 {'criterion': 'entropy', 'max_depth': 20, 'min_samples_leaf': 8}\n",
      "0.77827 0.10646 {'criterion': 'entropy', 'max_depth': None, 'min_samples_leaf': 2}\n",
      "0.76565 0.11257 {'criterion': 'entropy', 'max_depth': None, 'min_samples_leaf': 3}\n",
      "0.78007 0.11383 {'criterion': 'entropy', 'max_depth': None, 'min_samples_leaf': 4}\n",
      "0.74365 0.11747 {'criterion': 'entropy', 'max_depth': None, 'min_samples_leaf': 5}\n",
      "0.7679 0.11007 {'criterion': 'entropy', 'max_depth': None, 'min_samples_leaf': 6}\n",
      "0.8073 0.07645 {'criterion': 'entropy', 'max_depth': None, 'min_samples_leaf': 7}\n",
      "0.78849 0.07453 {'criterion': 'entropy', 'max_depth': None, 'min_samples_leaf': 8}\n"
     ]
    },
    {
     "name": "stderr",
     "output_type": "stream",
     "text": [
      "C:\\Users\\Abhishek\\Anaconda3\\lib\\site-packages\\sklearn\\model_selection\\_search.py:814: DeprecationWarning: The default of the `iid` parameter will change from True to False in version 0.22 and will be removed in 0.24. This will change numeric results when test-set sizes are unequal.\n",
      "  DeprecationWarning)\n"
     ]
    }
   ],
   "source": [
    "from scipy.stats import randint\n",
    "dt=DecisionTreeClassifier(random_state=1)\n",
    "parameters={\"max_depth\": [5,10,15,20,None],\"min_samples_leaf\":range(2, 9,1),\"criterion\": [\"gini\", \"entropy\"]}\n",
    "dt_cv=GridSearchCV(dt,parameters, scoring='f1',cv=5)\n",
    "dt_cv.fit(X_train,Y_data_train.values.ravel())  \n",
    "\n",
    "GET_Results(dt_cv)"
   ]
  },
  {
   "cell_type": "code",
   "execution_count": 24,
   "metadata": {},
   "outputs": [
    {
     "name": "stdout",
     "output_type": "stream",
     "text": [
      "0.7457627118644068\n"
     ]
    }
   ],
   "source": [
    "dt_model=DecisionTreeClassifier(criterion='entropy', max_depth=5, min_samples_leaf = 7)\n",
    "dt_model.fit(X_train,Y_data_train.values.ravel())\n",
    "dt_y_pred=dt_model.predict(X_test)\n",
    "all_score(Y_data_test,dt_y_pred)"
   ]
  },
  {
   "cell_type": "markdown",
   "metadata": {},
   "source": [
    "## kNN classifier"
   ]
  },
  {
   "cell_type": "code",
   "execution_count": 25,
   "metadata": {
    "scrolled": true
   },
   "outputs": [
    {
     "name": "stdout",
     "output_type": "stream",
     "text": [
      "best params: {'n_neighbors': 7, 'p': 1}\n",
      "\n",
      "0.84098 0.08578 {'n_neighbors': 4, 'p': 1}\n",
      "0.82111 0.10908 {'n_neighbors': 4, 'p': 2}\n",
      "0.84173 0.08859 {'n_neighbors': 5, 'p': 1}\n",
      "0.83948 0.12145 {'n_neighbors': 5, 'p': 2}\n",
      "0.84277 0.10089 {'n_neighbors': 6, 'p': 1}\n",
      "0.82582 0.08955 {'n_neighbors': 6, 'p': 2}\n",
      "0.84523 0.11004 {'n_neighbors': 7, 'p': 1}\n",
      "0.83011 0.08453 {'n_neighbors': 7, 'p': 2}\n",
      "0.8286 0.10666 {'n_neighbors': 8, 'p': 1}\n",
      "0.81728 0.08507 {'n_neighbors': 8, 'p': 2}\n",
      "0.83864 0.10329 {'n_neighbors': 9, 'p': 1}\n",
      "0.83195 0.07829 {'n_neighbors': 9, 'p': 2}\n"
     ]
    },
    {
     "name": "stderr",
     "output_type": "stream",
     "text": [
      "C:\\Users\\Abhishek\\Anaconda3\\lib\\site-packages\\sklearn\\model_selection\\_search.py:814: DeprecationWarning: The default of the `iid` parameter will change from True to False in version 0.22 and will be removed in 0.24. This will change numeric results when test-set sizes are unequal.\n",
      "  DeprecationWarning)\n"
     ]
    }
   ],
   "source": [
    "from sklearn.neighbors import KNeighborsClassifier \n",
    "knn=KNeighborsClassifier()\n",
    "parameters={'n_neighbors':[4,5,6,7,8,9],'p':[1,2]}\n",
    "knn_cv=GridSearchCV(knn,parameters, cv=5,scoring='f1')\n",
    "knn_cv.fit(X_train,Y_data_train.values.ravel())  \n",
    "\n",
    "GET_Results(knn_cv)"
   ]
  },
  {
   "cell_type": "code",
   "execution_count": 26,
   "metadata": {},
   "outputs": [
    {
     "name": "stdout",
     "output_type": "stream",
     "text": [
      "0.8524590163934426\n"
     ]
    }
   ],
   "source": [
    "knn_model=KNeighborsClassifier(n_neighbors= 7, p=1)\n",
    "knn_model.fit(X_train,Y_data_train.values.ravel())\n",
    "knn_y_pred=knn_model.predict(X_test)\n",
    "all_score(Y_data_test,knn_y_pred)"
   ]
  },
  {
   "cell_type": "markdown",
   "metadata": {},
   "source": [
    "## Logistic regression"
   ]
  },
  {
   "cell_type": "code",
   "execution_count": 27,
   "metadata": {},
   "outputs": [
    {
     "name": "stdout",
     "output_type": "stream",
     "text": [
      "best params: {'C': 1}\n",
      "\n",
      "0.84364 0.0867 {'C': 0.001}\n",
      "0.85941 0.0703 {'C': 0.01}\n",
      "0.85927 0.01982 {'C': 0.1}\n",
      "0.86071 0.06624 {'C': 1}\n",
      "0.85744 0.06036 {'C': 10}\n",
      "0.8541 0.05454 {'C': 100}\n"
     ]
    }
   ],
   "source": [
    "from sklearn.linear_model import LogisticRegression\n",
    "import warnings\n",
    "warnings.filterwarnings('ignore',category=FutureWarning)\n",
    "warnings.filterwarnings('ignore',category=DeprecationWarning)\n",
    "lr=LogisticRegression()\n",
    "parameters={'C':[0.001,0.01,0.1,1,10,100]}\n",
    "lr_cv=GridSearchCV(lr,parameters, cv=5,scoring='f1')\n",
    "lr_cv.fit(X_train,Y_data_train.values.ravel())  \n",
    "\n",
    "GET_Results(lr_cv)"
   ]
  },
  {
   "cell_type": "code",
   "execution_count": 33,
   "metadata": {},
   "outputs": [
    {
     "name": "stdout",
     "output_type": "stream",
     "text": [
      "0.8135593220338982\n"
     ]
    }
   ],
   "source": [
    "lr_model=LogisticRegression(C=0.01)\n",
    "lr_model.fit(X_train,Y_data_train.values.ravel())\n",
    "lr_y_pred=lr_model.predict(X_test)\n",
    "all_score(Y_data_test,lr_y_pred)"
   ]
  },
  {
   "cell_type": "markdown",
   "metadata": {},
   "source": [
    "## Support Vector classifier"
   ]
  },
  {
   "cell_type": "code",
   "execution_count": 34,
   "metadata": {
    "scrolled": true
   },
   "outputs": [
    {
     "name": "stdout",
     "output_type": "stream",
     "text": [
      "best params: {'C': 0.1, 'kernel': 'linear'}\n",
      "\n",
      "0.86962 0.04173 {'C': 0.1, 'kernel': 'linear'}\n",
      "0.85623 0.06636 {'C': 0.1, 'kernel': 'rbf'}\n",
      "0.86615 0.09193 {'C': 1, 'kernel': 'linear'}\n",
      "0.86857 0.04318 {'C': 1, 'kernel': 'rbf'}\n",
      "0.85354 0.07024 {'C': 10, 'kernel': 'linear'}\n",
      "0.86061 0.08941 {'C': 10, 'kernel': 'rbf'}\n"
     ]
    }
   ],
   "source": [
    "from sklearn.svm import SVC\n",
    "svc=SVC()\n",
    "parameters={'kernel':['linear','rbf'],'C':[0.1,1,10]}\n",
    "svc_cv=GridSearchCV(svc,parameters, cv=5,scoring='f1')\n",
    "svc_cv.fit(X_train,Y_data_train.values.ravel())  \n",
    "\n",
    "GET_Results(svc_cv)"
   ]
  },
  {
   "cell_type": "code",
   "execution_count": 36,
   "metadata": {},
   "outputs": [
    {
     "name": "stdout",
     "output_type": "stream",
     "text": [
      "0.7999999999999999\n"
     ]
    }
   ],
   "source": [
    "svc_model=SVC(C=1,kernel='rbf')\n",
    "svc_model.fit(X_train,Y_data_train.values.ravel())\n",
    "svc_y_pred=svc_model.predict(X_test)\n",
    "all_score(Y_data_test,svc_y_pred)"
   ]
  }
 ],
 "metadata": {
  "kernelspec": {
   "display_name": "Python 3",
   "language": "python",
   "name": "python3"
  },
  "language_info": {
   "codemirror_mode": {
    "name": "ipython",
    "version": 3
   },
   "file_extension": ".py",
   "mimetype": "text/x-python",
   "name": "python",
   "nbconvert_exporter": "python",
   "pygments_lexer": "ipython3",
   "version": "3.7.4"
  }
 },
 "nbformat": 4,
 "nbformat_minor": 2
}
